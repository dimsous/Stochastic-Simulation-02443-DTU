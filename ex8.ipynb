{
 "cells": [
  {
   "attachments": {},
   "cell_type": "markdown",
   "metadata": {},
   "source": [
    "# Exercise 8"
   ]
  },
  {
   "cell_type": "code",
   "execution_count": 1,
   "metadata": {},
   "outputs": [],
   "source": [
    "import numpy as np\n",
    "import matplotlib.pyplot as plt"
   ]
  },
  {
   "attachments": {},
   "cell_type": "markdown",
   "metadata": {},
   "source": [
    "1. Let $X_1,..., X_n$ be independent and identically distributed random variables\n",
    "having unknown mean μ. For given constants $a < b$, we are interested in\n",
    "estimating $p = P\\{a < \\sum_n^{i=1} Xi/n − μ < b\\}$."
   ]
  },
  {
   "attachments": {},
   "cell_type": "markdown",
   "metadata": {},
   "source": [
    "(a) Explain how we can use the bootstrap approach to estimate p."
   ]
  },
  {
   "attachments": {},
   "cell_type": "markdown",
   "metadata": {},
   "source": [
    "SInce $p$ is a probability, the result can be computed by counting the bootstrap samples for which $a < \\sum_n^{i=1} Xi/n − μ < b$ holds true and dividing by the overall number of bootstrap samples."
   ]
  },
  {
   "attachments": {},
   "cell_type": "markdown",
   "metadata": {},
   "source": [
    "(b) Estimate $p$ if $n = 10$ and the values of the $X_i$ are 56, 101, 78, 67, 93, 87,\n",
    "64, 72, 80, and 69. Take $a$ = −5, $b$ = 5."
   ]
  },
  {
   "cell_type": "code",
   "execution_count": 2,
   "metadata": {},
   "outputs": [
    {
     "name": "stdout",
     "output_type": "stream",
     "text": [
      "Estimated p: 0.7576\n"
     ]
    }
   ],
   "source": [
    "n = 10\n",
    "X = np.array([56, 101, 78, 67, 93, 87, 64, 72, 80, 69])\n",
    "m = 10000\n",
    "count = 0\n",
    "\n",
    "for _ in range(m):\n",
    "    bs = np.random.choice(X, size=n, replace=True)\n",
    "    x = (1/n * np.sum(bs)) - np.mean(X)\n",
    "    if -5 < x < 5:\n",
    "        count += 1\n",
    "\n",
    "p = count / m\n",
    "\n",
    "print(\"Estimated p:\", p)"
   ]
  },
  {
   "attachments": {},
   "cell_type": "markdown",
   "metadata": {},
   "source": [
    "2. If $n =$ 15 and the data are 5, 4, 9, 6, 21, 17, 11, 20, 7, 10, 21, 15, 13, 16, 8 approximate (by a simulation) the bootstrap estimate of $Var(S^2)$."
   ]
  },
  {
   "cell_type": "code",
   "execution_count": 3,
   "metadata": {},
   "outputs": [
    {
     "name": "stdout",
     "output_type": "stream",
     "text": [
      "Estimated Var(S^2): 58.21893002438022\n"
     ]
    }
   ],
   "source": [
    "n = 15\n",
    "X = np.array([5, 4, 9, 6, 21, 17, 11, 20, 7, 10, 21, 15, 13, 16, 8])\n",
    "m = 10000\n",
    "bs_variances = []\n",
    "\n",
    "for _ in range(m):\n",
    "    bs = np.random.choice(X, size=n, replace=True)\n",
    "    bs_variances.append(np.var(bs, ddof=1))\n",
    "\n",
    "res = np.var(bs_variances, ddof=1)\n",
    "print(\"Estimated Var(S^2):\", res)"
   ]
  },
  {
   "attachments": {},
   "cell_type": "markdown",
   "metadata": {},
   "source": [
    "3. Write a subroutine that takes as input a “data” vector of observed values, and which outputs the median as well as the bootstrap estimate of the variance of the median, based on $r =$ 100 bootstrap replicates. Simulate $N =$ 200 Pareto distributed random variates with $β =$ 1 and $k =$ 1.05."
   ]
  },
  {
   "cell_type": "code",
   "execution_count": 4,
   "metadata": {},
   "outputs": [],
   "source": [
    "n = 200\n",
    "b = 1\n",
    "k = 1.05\n",
    "X = np.random.pareto(k, n) + b"
   ]
  },
  {
   "attachments": {},
   "cell_type": "markdown",
   "metadata": {},
   "source": [
    "(a) Compute the mean and the median (of the sample)"
   ]
  },
  {
   "cell_type": "code",
   "execution_count": 5,
   "metadata": {},
   "outputs": [
    {
     "name": "stdout",
     "output_type": "stream",
     "text": [
      "Mean of the sample: 6.3267312767412935\n",
      "Median of the sample: 1.7952693141627414\n"
     ]
    }
   ],
   "source": [
    "mean = np.mean(X)\n",
    "median = np.median(X)\n",
    "print(\"Mean of the sample:\", mean)\n",
    "print(\"Median of the sample:\", median)"
   ]
  },
  {
   "attachments": {},
   "cell_type": "markdown",
   "metadata": {},
   "source": [
    "(b)-(c) Make bootstrap estimates of the variance of the sample mean and of the variance of the sample median."
   ]
  },
  {
   "cell_type": "code",
   "execution_count": 6,
   "metadata": {},
   "outputs": [
    {
     "name": "stdout",
     "output_type": "stream",
     "text": [
      "Bootstrap estimate of variance of sample mean: 1.184684023393878\n",
      "Bootstrap estimate of variance of sample median: 0.021660944009817343\n"
     ]
    }
   ],
   "source": [
    "m = 10000\n",
    "bs_means = []\n",
    "bs_medians = []\n",
    "\n",
    "for _ in range(m):\n",
    "    bs = np.random.choice(X, size=n, replace=True)\n",
    "    bs_means.append(np.mean(bs))\n",
    "    bs_medians.append(np.median(bs))\n",
    "\n",
    "res1 = np.var(bs_means, ddof=1)\n",
    "res2 = np.var(bs_medians, ddof=1)\n",
    "print(\"Bootstrap estimate of variance of sample mean:\", res1)\n",
    "print(\"Bootstrap estimate of variance of sample median:\", res2)"
   ]
  },
  {
   "attachments": {},
   "cell_type": "markdown",
   "metadata": {},
   "source": [
    "(d) Compare the precision of the estimated median with the precision of the estimated mean"
   ]
  },
  {
   "cell_type": "code",
   "execution_count": 10,
   "metadata": {},
   "outputs": [
    {
     "name": "stdout",
     "output_type": "stream",
     "text": [
      "Estimated Mean:\n",
      "Standard Deviation: 1.088431910315881\n",
      "Estimated Median:\n",
      "Standard Deviation: 0.14717657425629033\n"
     ]
    }
   ],
   "source": [
    "mean_std = np.std(bs_means, ddof=1)\n",
    "median_std = np.std(bs_medians, ddof=1)\n",
    "print(\"Estimated Mean:\")\n",
    "print(\"Standard Deviation:\", mean_std)\n",
    "print(\"Estimated Median:\")\n",
    "print(\"Standard Deviation:\", median_std)"
   ]
  },
  {
   "attachments": {},
   "cell_type": "markdown",
   "metadata": {},
   "source": [
    "Since the standard deviation of the estimated median is lower than that of the estimated mean, it can be concluded that it has higher precision."
   ]
  }
 ],
 "metadata": {
  "kernelspec": {
   "display_name": "base",
   "language": "python",
   "name": "python3"
  },
  "language_info": {
   "codemirror_mode": {
    "name": "ipython",
    "version": 3
   },
   "file_extension": ".py",
   "mimetype": "text/x-python",
   "name": "python",
   "nbconvert_exporter": "python",
   "pygments_lexer": "ipython3",
   "version": "3.10.9"
  },
  "orig_nbformat": 4
 },
 "nbformat": 4,
 "nbformat_minor": 2
}
