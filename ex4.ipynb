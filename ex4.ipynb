{
 "cells": [
  {
   "attachments": {},
   "cell_type": "markdown",
   "metadata": {},
   "source": [
    "# Exercise 4"
   ]
  },
  {
   "cell_type": "code",
   "execution_count": 1,
   "metadata": {},
   "outputs": [],
   "source": [
    "import numpy as np\n",
    "import scipy.stats as stats\n",
    "import statistics as st\n",
    "\n",
    "su = 10; mst = 8; mct = 1; c = 10000; n = 10"
   ]
  },
  {
   "attachments": {},
   "cell_type": "markdown",
   "metadata": {},
   "source": [
    "Write a discrete event simulation program for a blocking system, i.e. a system with m service units and no waiting room. The offered traffic A is the product of the mean arrival rate and the mean service time."
   ]
  },
  {
   "attachments": {},
   "cell_type": "markdown",
   "metadata": {},
   "source": [
    "1. The arrival process is modelled as a Poisson process. Report the fraction of blocked customers, and a confidence interval for this fraction. Choose the service time distribution as exponential. Parameters: m = 10, mean service time = 8 time units, mean time between customers = 1 time unit (corresponding to an offered traffic of 8 Erlang), 10 x 10.000 customers.\n"
   ]
  },
  {
   "cell_type": "code",
   "execution_count": 2,
   "metadata": {},
   "outputs": [
    {
     "name": "stdout",
     "output_type": "stream",
     "text": [
      "\n",
      " Poisson-Exponential\n",
      "[0.1103, 0.1167, 0.1216, 0.1244, 0.118, 0.1296, 0.1243, 0.1236, 0.1295, 0.1244] 0.118854884131056 0.125625115868944\n"
     ]
    }
   ],
   "source": [
    "def bc1(su, mst, mct, c):\n",
    "    res = 0\n",
    "    t = np.cumsum(np.random.exponential(mct, c))\n",
    "    st = [0] * su\n",
    "    for i in range(c):\n",
    "        if t[i] > min(st):\n",
    "            st[st.index(min(st))] = np.random.exponential(mst) + t[i]\n",
    "        else:\n",
    "            res +=1\n",
    "    return res/c\n",
    "\n",
    "res = [bc1(su, mst, mct, c) for i in range(n)]\n",
    "\n",
    "lb = st.mean(res) - stats.t.ppf(0.95, n)*st.stdev(res)/np.sqrt(n)\n",
    "ub = st.mean(res) + stats.t.ppf(0.95, n)*st.stdev(res)/np.sqrt(n)\n",
    "\n",
    "print(\"\\n Poisson-Exponential\")\n",
    "print(res,lb,ub)"
   ]
  },
  {
   "attachments": {},
   "cell_type": "markdown",
   "metadata": {},
   "source": [
    "2. The arrival process is modelled as a renewal process using the same parameters as in Part 1 when possible. Report the fraction of blocked customers, and a confidence interval for this fraction for at least the following two cases"
   ]
  },
  {
   "attachments": {},
   "cell_type": "markdown",
   "metadata": {},
   "source": [
    "(a) Experiment with Erlang distributed inter arrival times. The Erlang distribution should have a mean of 1 "
   ]
  },
  {
   "cell_type": "code",
   "execution_count": 3,
   "metadata": {},
   "outputs": [
    {
     "name": "stdout",
     "output_type": "stream",
     "text": [
      "\n",
      " Erlang-Exponential\n",
      "[0.119, 0.1255, 0.1262, 0.1224, 0.114, 0.1223, 0.1238, 0.1239, 0.1138, 0.1256] 0.1190237375093848 0.12427626249061519\n"
     ]
    }
   ],
   "source": [
    "def bc2a(su, mst, mct, c):\n",
    "    res = 0\n",
    "    t = np.cumsum(np.random.gamma(1, mct, c))\n",
    "    st = [0] * su\n",
    "    for i in range(c):\n",
    "        if t[i] > min(st):\n",
    "            st[st.index(min(st))] = np.random.exponential(mst) + t[i]\n",
    "        else:\n",
    "            res +=1\n",
    "    return res\n",
    "\n",
    "res = [bc2a(su, mst, mct, c)/c for i in range(n)]\n",
    "\n",
    "lb = st.mean(res) - stats.t.ppf(0.95, n)*st.stdev(res)/np.sqrt(n)\n",
    "ub = st.mean(res) + stats.t.ppf(0.95, n)*st.stdev(res)/np.sqrt(n)\n",
    "\n",
    "print(\"\\n Erlang-Exponential\")\n",
    "print(res,lb,ub)"
   ]
  },
  {
   "attachments": {},
   "cell_type": "markdown",
   "metadata": {},
   "source": [
    "(b) hyper exponential inter arrival times. The parameters for the hyper exponential distribution should be p1 = 0.8, λ1 = 0.8333, p2 = 0.2, λ2 = 5.0."
   ]
  },
  {
   "cell_type": "code",
   "execution_count": 4,
   "metadata": {},
   "outputs": [
    {
     "name": "stdout",
     "output_type": "stream",
     "text": [
      "\n",
      " Hyper exponential-Exponential\n",
      "[0.1364, 0.1327, 0.1295, 0.141, 0.1318, 0.1379, 0.1394, 0.132, 0.125, 0.1351] 0.13129790005559652 0.1368620999444035\n"
     ]
    }
   ],
   "source": [
    "def bc2b(su, mst, c):\n",
    "    res = 0\n",
    "    tmp = []\n",
    "    for u in np.random.random_sample(10000):\n",
    "        if u < 0.8:\n",
    "            tmp.append(np.random.exponential(1/0.8333))\n",
    "        else:\n",
    "            tmp.append(np.random.exponential(1/5))\n",
    "    t= np.cumsum(tmp)\n",
    "    st = [0] * su\n",
    "    for i in range(c):\n",
    "        if t[i] > min(st):\n",
    "            st[st.index(min(st))] = np.random.exponential(mst) + t[i]\n",
    "        else:\n",
    "            res +=1\n",
    "    return res\n",
    "\n",
    "res = [bc2b(su, mst, c)/c for i in range(n)]\n",
    "\n",
    "lb = st.mean(res) - stats.t.ppf(0.95, n)*st.stdev(res)/np.sqrt(n)\n",
    "ub = st.mean(res) + stats.t.ppf(0.95, n)*st.stdev(res)/np.sqrt(n)\n",
    "\n",
    "print(\"\\n Hyper exponential-Exponential\")\n",
    "print(res,lb,ub)"
   ]
  },
  {
   "attachments": {},
   "cell_type": "markdown",
   "metadata": {},
   "source": [
    "3. The arrival process is again a Poisson process like in Part 1. Experiment with different service time distributions with the same mean  service time and m as in Part 1 and Part 2."
   ]
  },
  {
   "attachments": {},
   "cell_type": "markdown",
   "metadata": {},
   "source": [
    "(a) Constant service time"
   ]
  },
  {
   "cell_type": "code",
   "execution_count": 5,
   "metadata": {},
   "outputs": [
    {
     "name": "stdout",
     "output_type": "stream",
     "text": [
      "\n",
      " Poisson-Constant\n",
      "[0.12, 0.1226, 0.1167, 0.125, 0.12, 0.1263, 0.1226, 0.1189, 0.1231, 0.128] 0.12031537466271978 0.12432462533728021\n"
     ]
    }
   ],
   "source": [
    "def bc3a(su, mst, mct, c):\n",
    "    res = 0\n",
    "    t = np.cumsum(np.random.exponential(mct, c))\n",
    "    st = [0] * su\n",
    "    for i in range(c):\n",
    "        if t[i] > min(st):\n",
    "            st[st.index(min(st))] = mst + t[i]\n",
    "        else:\n",
    "            res +=1\n",
    "    return res\n",
    "\n",
    "res = [bc3a(su, mst, mct, c)/c for i in range(n)]\n",
    "\n",
    "lb = st.mean(res) - stats.t.ppf(0.95, n)*st.stdev(res)/np.sqrt(n)\n",
    "ub = st.mean(res) + stats.t.ppf(0.95, n)*st.stdev(res)/np.sqrt(n)\n",
    "\n",
    "print(\"\\n Poisson-Constant\")\n",
    "print(res,lb,ub)"
   ]
  },
  {
   "attachments": {},
   "cell_type": "markdown",
   "metadata": {},
   "source": [
    "(b) Pareto distributed service times with at least k = 1.05 and k = 2.05."
   ]
  },
  {
   "cell_type": "code",
   "execution_count": 6,
   "metadata": {},
   "outputs": [
    {
     "name": "stdout",
     "output_type": "stream",
     "text": [
      "\n",
      " Poisson-Pareto\n",
      "[0.1227, 0.0772, 0.093, 0.0664, 0.1596, 0.1098, 0.0831, 0.0859, 0.0726, 0.1245] 0.08272193048594612 0.11623806951405388\n"
     ]
    }
   ],
   "source": [
    "\n",
    "def bc3b(su, mst, mct, c):\n",
    "    res = 0\n",
    "    t = np.cumsum(np.random.exponential(mct, c))\n",
    "    st = [0] * su\n",
    "    for i in range(c):\n",
    "        if t[i] > min(st):\n",
    "            st[st.index(min(st))] = (np.random.pareto(1.05)+1) + t[i]\n",
    "        else:\n",
    "            res +=1\n",
    "    return res\n",
    "\n",
    "res = [bc3b(su, mst, mct, c)/c for i in range(n)]\n",
    "\n",
    "lb = st.mean(res) - stats.t.ppf(0.95, n)*st.stdev(res)/np.sqrt(n)\n",
    "ub = st.mean(res) + stats.t.ppf(0.95, n)*st.stdev(res)/np.sqrt(n)\n",
    "\n",
    "print(\"\\n Poisson-Pareto\")\n",
    "print(res,lb,ub)"
   ]
  },
  {
   "attachments": {},
   "cell_type": "markdown",
   "metadata": {},
   "source": [
    "(c) Choose one or two other distributions."
   ]
  },
  {
   "cell_type": "code",
   "execution_count": 7,
   "metadata": {},
   "outputs": [
    {
     "name": "stdout",
     "output_type": "stream",
     "text": [
      "\n",
      " Normal-Normal\n",
      "[0.1265, 0.1248, 0.1261, 0.1168, 0.124, 0.1199, 0.1189, 0.1229, 0.1293, 0.118] 0.12034239608717874 0.12509760391282124\n"
     ]
    }
   ],
   "source": [
    "def bc3c(su, mst, mct, c):\n",
    "    res = 0\n",
    "    t = np.cumsum(np.random.normal(mct, size=c))\n",
    "    st = [0] * su\n",
    "    for i in range(c):\n",
    "        if t[i] > min(st):\n",
    "            st[st.index(min(st))] = np.random.normal(mst) + t[i]\n",
    "        else:\n",
    "            res +=1\n",
    "    return res\n",
    "\n",
    "res = [bc3c(su, mst, mct, c)/c for i in range(n)]\n",
    "\n",
    "lb = st.mean(res) - stats.t.ppf(0.95, n)*st.stdev(res)/np.sqrt(n)\n",
    "ub = st.mean(res) + stats.t.ppf(0.95, n)*st.stdev(res)/np.sqrt(n)\n",
    "\n",
    "print(\"\\n Normal-Normal\")\n",
    "print(res,lb,ub)"
   ]
  },
  {
   "attachments": {},
   "cell_type": "markdown",
   "metadata": {},
   "source": [
    "4. Compare confidence intervals for Parts 1, 2, and 3 then interpret and explain differences if any."
   ]
  }
 ],
 "metadata": {
  "kernelspec": {
   "display_name": "base",
   "language": "python",
   "name": "python3"
  },
  "language_info": {
   "codemirror_mode": {
    "name": "ipython",
    "version": 3
   },
   "file_extension": ".py",
   "mimetype": "text/x-python",
   "name": "python",
   "nbconvert_exporter": "python",
   "pygments_lexer": "ipython3",
   "version": "3.10.9"
  },
  "orig_nbformat": 4
 },
 "nbformat": 4,
 "nbformat_minor": 2
}
